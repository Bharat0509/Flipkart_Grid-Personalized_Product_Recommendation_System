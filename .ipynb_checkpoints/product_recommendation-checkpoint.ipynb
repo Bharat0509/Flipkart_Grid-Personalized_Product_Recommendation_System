{
 "cells": [
  {
   "cell_type": "markdown",
   "metadata": {
    "execution": {
     "iopub.execute_input": "2023-06-12T12:09:47.331329Z",
     "iopub.status.busy": "2023-06-12T12:09:47.330924Z",
     "iopub.status.idle": "2023-06-12T12:09:47.378742Z",
     "shell.execute_reply": "2023-06-12T12:09:47.376876Z",
     "shell.execute_reply.started": "2023-06-12T12:09:47.331297Z"
    }
   },
   "source": [
    "### Flipkart Grid Problem Statement 2 : Personalized Recommedation System ###"
   ]
  },
  {
   "cell_type": "code",
   "execution_count": 1,
   "metadata": {},
   "outputs": [
    {
     "name": "stderr",
     "output_type": "stream",
     "text": [
      "\n",
      "[notice] A new release of pip is available: 23.1.2 -> 23.2.1\n",
      "[notice] To update, run: C:\\Users\\bhart\\AppData\\Local\\Microsoft\\WindowsApps\\PythonSoftwareFoundation.Python.3.11_qbz5n2kfra8p0\\python.exe -m pip install --upgrade pip\n"
     ]
    }
   ],
   "source": [
    "!pip install wordcloud -q"
   ]
  },
  {
   "cell_type": "code",
   "execution_count": 2,
   "metadata": {
    "_cell_guid": "b1076dfc-b9ad-4769-8c92-a6c4dae69d19",
    "_uuid": "8f2839f25d086af736a60e9eeb907d3b93b6e0e5"
   },
   "outputs": [],
   "source": [
    "### Basic libraries\n",
    "import numpy as np\n",
    "import pandas as pd\n",
    "import matplotlib.pyplot as plt\n",
    "%matplotlib inline\n",
    "import pickle\n",
    "import warnings\n",
    "warnings.filterwarnings(action='ignore')\n",
    "\n",
    "# Data Preprocessing\n",
    "from sklearn.preprocessing import MinMaxScaler\n",
    "from sklearn.preprocessing import LabelEncoder\n",
    "\n",
    "# Model Training\n",
    "from sklearn.utils import shuffle\n",
    "from sklearn.model_selection import train_test_split\n",
    "import tensorflow as tf\n",
    "\n",
    "## Import necessary modules for collaborative filtering\n",
    "from tensorflow.keras.layers import Input, Embedding, Dot, Flatten, Dense\n",
    "from tensorflow.keras.models import Model\n",
    "from tensorflow.keras.optimizers import Adam\n",
    "from wordcloud import WordCloud\n",
    "from collections import defaultdict\n",
    "from collections import Counter\n",
    "\n",
    "## Import necessary modules for content-based filtering\n",
    "from sklearn.feature_extraction.text import TfidfVectorizer\n",
    "from sklearn.metrics.pairwise import linear_kernel"
   ]
  },
  {
   "cell_type": "code",
   "execution_count": 3,
   "metadata": {},
   "outputs": [
    {
     "name": "stdout",
     "output_type": "stream",
     "text": [
      "Shape of the Dataset: (4000000, 3)\n"
     ]
    },
    {
     "data": {
      "text/html": [
       "<div>\n",
       "<style scoped>\n",
       "    .dataframe tbody tr th:only-of-type {\n",
       "        vertical-align: middle;\n",
       "    }\n",
       "\n",
       "    .dataframe tbody tr th {\n",
       "        vertical-align: top;\n",
       "    }\n",
       "\n",
       "    .dataframe thead th {\n",
       "        text-align: right;\n",
       "    }\n",
       "</style>\n",
       "<table border=\"1\" class=\"dataframe\">\n",
       "  <thead>\n",
       "    <tr style=\"text-align: right;\">\n",
       "      <th></th>\n",
       "      <th>user_id</th>\n",
       "      <th>product_id</th>\n",
       "      <th>score</th>\n",
       "    </tr>\n",
       "  </thead>\n",
       "  <tbody>\n",
       "    <tr>\n",
       "      <th>0</th>\n",
       "      <td>9788</td>\n",
       "      <td>8621</td>\n",
       "      <td>9</td>\n",
       "    </tr>\n",
       "    <tr>\n",
       "      <th>1</th>\n",
       "      <td>2669</td>\n",
       "      <td>4384</td>\n",
       "      <td>7</td>\n",
       "    </tr>\n",
       "    <tr>\n",
       "      <th>2</th>\n",
       "      <td>2469</td>\n",
       "      <td>9823</td>\n",
       "      <td>5</td>\n",
       "    </tr>\n",
       "    <tr>\n",
       "      <th>3</th>\n",
       "      <td>9044</td>\n",
       "      <td>5462</td>\n",
       "      <td>8</td>\n",
       "    </tr>\n",
       "    <tr>\n",
       "      <th>4</th>\n",
       "      <td>6501</td>\n",
       "      <td>3999</td>\n",
       "      <td>8</td>\n",
       "    </tr>\n",
       "  </tbody>\n",
       "</table>\n",
       "</div>"
      ],
      "text/plain": [
       "   user_id  product_id  score\n",
       "0     9788        8621      9\n",
       "1     2669        4384      7\n",
       "2     2469        9823      5\n",
       "3     9044        5462      8\n",
       "4     6501        3999      8"
      ]
     },
     "execution_count": 3,
     "metadata": {},
     "output_type": "execute_result"
    }
   ],
   "source": [
    "# Load the dataset\n",
    "df=pd.read_csv('user_Interaction.csv', usecols=[\"user_id\",\"product_id\",\"score\"])\n",
    "# df=df.iloc[0:10000,:]\n",
    "print(\"Shape of the Dataset:\",df.shape)\n",
    "df.head()\n"
   ]
  },
  {
   "cell_type": "code",
   "execution_count": 5,
   "metadata": {},
   "outputs": [],
   "source": [
    "\n",
    "df_products=pd.read_csv('products_details.csv')\n",
    "df_products=df_products.dropna()\n",
    "df_products=df_products.reset_index()\n",
    "df_products=df_products.rename(columns={'index':'product_id'})\n",
    "df_products=df_products.merge(df,on='product_id')\n"
   ]
  },
  {
   "cell_type": "code",
   "execution_count": 8,
   "metadata": {},
   "outputs": [
    {
     "name": "stdout",
     "output_type": "stream",
     "text": [
      "Average Score: 7.503142527334953\n"
     ]
    }
   ],
   "source": [
    "# Calculating the average score\n",
    "avg_score = np.mean(df_products['score'])\n",
    "print('Average Score:', avg_score)"
   ]
  },
  {
   "cell_type": "markdown",
   "metadata": {},
   "source": [
    "# Data Preprocessing"
   ]
  },
  {
   "cell_type": "code",
   "execution_count": 12,
   "metadata": {},
   "outputs": [],
   "source": [
    "# Scaling our \"rating\" column\n",
    "# Create a MinMaxScaler object\n",
    "scaler = MinMaxScaler(feature_range=(0, 1))\n",
    "\n",
    "# Scale the 'score' column between 0 and 1\n",
    "df_products['scaled_score'] = scaler.fit_transform(df_products[['score']])\n"
   ]
  },
  {
   "cell_type": "code",
   "execution_count": 9,
   "metadata": {},
   "outputs": [
    {
     "name": "stdout",
     "output_type": "stream",
     "text": [
      "Number of unique users: 10000, Number of unique products: 8730\n",
      "Minimum score: 1, Maximum score: 10\n"
     ]
    }
   ],
   "source": [
    "# Encoding categorical data\n",
    "\n",
    "## Encoding user IDs\n",
    "user_encoder = LabelEncoder()\n",
    "df_products[\"user_encoded\"] = user_encoder.fit_transform(df_products[\"user_id\"])\n",
    "num_users = len(user_encoder.classes_)\n",
    "\n",
    "## Encoding products IDs\n",
    "product_encoder = LabelEncoder()\n",
    "df_products[\"product_encoded\"] = product_encoder.fit_transform(df_products[\"product_id\"])\n",
    "num_products = len(product_encoder.classes_)\n",
    "\n",
    "# Printing dataset information\n",
    "print(\"Number of unique users: {}, Number of unique products: {}\".format(num_users, num_products))\n",
    "print(\"Minimum score: {}, Maximum score: {}\".format(min(df_products['score']), max(df_products['score'])))"
   ]
  },
  {
   "cell_type": "markdown",
   "metadata": {},
   "source": [
    "# Model training (collaborative filtering)"
   ]
  },
  {
   "cell_type": "code",
   "execution_count": 13,
   "metadata": {},
   "outputs": [
    {
     "name": "stdout",
     "output_type": "stream",
     "text": [
      "Shape of X: (2909919, 2)\n",
      "Shape of y: (2909919,)\n"
     ]
    }
   ],
   "source": [
    "# Shuffle the dataset\n",
    "df_products = shuffle(df_products, random_state=100)\n",
    "\n",
    "# Create feature matrix X and target variable y\n",
    "X = df_products[['user_encoded', 'product_encoded']].values\n",
    "y = df_products[\"scaled_score\"].values\n",
    "\n",
    "# Printing dataset information\n",
    "print(\"Shape of X:\", X.shape)\n",
    "print(\"Shape of y:\", y.shape)"
   ]
  },
  {
   "cell_type": "code",
   "execution_count": 14,
   "metadata": {},
   "outputs": [
    {
     "name": "stdout",
     "output_type": "stream",
     "text": [
      "Number of samples in the training set: 2327935\n",
      "Number of samples in the test set: 581984\n"
     ]
    }
   ],
   "source": [
    "test_set_size = .2  # Number of samples to include in the test set\n",
    "\n",
    "X_train, X_test, y_train, y_test = train_test_split(X, y, test_size=test_set_size, random_state=42)\n",
    "\n",
    "print(\"Number of samples in the training set:\", len(y_train))\n",
    "print(\"Number of samples in the test set:\", len(y_test))"
   ]
  },
  {
   "cell_type": "code",
   "execution_count": 15,
   "metadata": {},
   "outputs": [],
   "source": [
    "# Prepare input data for model training and evaluation\n",
    "X_train_array = [X_train[:, 0], X_train[:, 1]]\n",
    "X_test_array = [X_test[:, 0], X_test[:, 1]]"
   ]
  },
  {
   "cell_type": "code",
   "execution_count": 16,
   "metadata": {},
   "outputs": [
    {
     "name": "stdout",
     "output_type": "stream",
     "text": [
      "Wed Aug 16 21:07:24 2023       TensorFlow version: 2.13.0\n",
      "\n",
      "+-----------------------------------------------------------------------------+\n",
      "| NVIDIA-SMI 516.91       Driver Version: 516.91       CUDA Version: 11.7     |\n",
      "|-------------------------------+----------------------+----------------------+\n",
      "| GPU  Name            TCC/WDDM | Bus-Id        Disp.A | Volatile Uncorr. ECC |\n",
      "| Fan  Temp  Perf  Pwr:Usage/Cap|         Memory-Usage | GPU-Util  Compute M. |\n",
      "|                               |                      |               MIG M. |\n",
      "|===============================+======================+======================|\n",
      "|   0  NVIDIA GeForce ... WDDM  | 00000000:01:00.0 Off |                  N/A |\n",
      "| N/A   44C    P0    13W /  N/A |      0MiB /  4096MiB |      0%      Default |\n",
      "|                               |                      |                  N/A |\n",
      "+-------------------------------+----------------------+----------------------+\n",
      "                                                                               \n",
      "+-----------------------------------------------------------------------------+\n",
      "| Processes:                                                                  |\n",
      "|  GPU   GI   CI        PID   Type   Process name                  GPU Memory |\n",
      "|        ID   ID                                                   Usage      |\n",
      "|=============================================================================|\n",
      "|  No running processes found                                                 |\n",
      "+-----------------------------------------------------------------------------+\n"
     ]
    }
   ],
   "source": [
    "# # Setting TPU_INIT flag\n",
    "USE_TPU = False # We're not using Kaggle notbook now \n",
    "\n",
    "# Checking if TPU is initialized\n",
    "if USE_TPU:\n",
    "    # If tpu is connected then start creating TPUStrategy\n",
    "    tpu_resolver = tf.distribute.cluster_resolver.TPUClusterResolver.connect()\n",
    "    tpu_strategy = tf.distribute.experimental.TPUStrategy(tpu_resolver)\n",
    "else:\n",
    "    !nvidia-smi\n",
    "    \n",
    "# Print the TensorFlow version\n",
    "tf_version = tf.__version__\n",
    "print(f\"TensorFlow version: {tf_version}\")"
   ]
  },
  {
   "cell_type": "code",
   "execution_count": 17,
   "metadata": {},
   "outputs": [
    {
     "name": "stdout",
     "output_type": "stream",
     "text": [
      "Model: \"model\"\n",
      "__________________________________________________________________________________________________\n",
      " Layer (type)                Output Shape                 Param #   Connected to                  \n",
      "==================================================================================================\n",
      " user_encoded (InputLayer)   [(None, 1)]                  0         []                            \n",
      "                                                                                                  \n",
      " product_encoded (InputLaye  [(None, 1)]                  0         []                            \n",
      " r)                                                                                               \n",
      "                                                                                                  \n",
      " user_embedding (Embedding)  (None, 1, 128)               1280000   ['user_encoded[0][0]']        \n",
      "                                                                                                  \n",
      " product_embedding (Embeddi  (None, 1, 128)               1117440   ['product_encoded[0][0]']     \n",
      " ng)                                                                                              \n",
      "                                                                                                  \n",
      " dot_product (Dot)           (None, 1, 1)                 0         ['user_embedding[0][0]',      \n",
      "                                                                     'product_embedding[0][0]']   \n",
      "                                                                                                  \n",
      " flatten (Flatten)           (None, 1)                    0         ['dot_product[0][0]']         \n",
      "                                                                                                  \n",
      " dense (Dense)               (None, 64)                   128       ['flatten[0][0]']             \n",
      "                                                                                                  \n",
      " dense_1 (Dense)             (None, 1)                    65        ['dense[0][0]']               \n",
      "                                                                                                  \n",
      "==================================================================================================\n",
      "Total params: 2397633 (9.15 MB)\n",
      "Trainable params: 2397633 (9.15 MB)\n",
      "Non-trainable params: 0 (0.00 Byte)\n",
      "__________________________________________________________________________________________________\n"
     ]
    }
   ],
   "source": [
    "def RecommenderNet(num_users, num_animes, embedding_size=128):\n",
    "    # User input layer and embedding layer\n",
    "    user = Input(name='user_encoded', shape=[1])\n",
    "    user_embedding = Embedding(name='user_embedding', input_dim=num_users, output_dim=embedding_size)(user)\n",
    "    \n",
    "    # Product input layer and embedding layer\n",
    "    product = Input(name='product_encoded', shape=[1])\n",
    "    product_embedding = Embedding(name='product_embedding', input_dim=num_products, output_dim=embedding_size)(product)\n",
    "    \n",
    "    # Dot product of user and Product embeddings\n",
    "    dot_product = Dot(name='dot_product', normalize=True, axes=2)([user_embedding, product_embedding])\n",
    "    flattened = Flatten()(dot_product)\n",
    "    \n",
    "    # Dense layers for prediction\n",
    "    dense = Dense(64, activation='relu')(flattened)\n",
    "    output = Dense(1, activation='sigmoid')(dense)\n",
    "    \n",
    "    # Create and compile the model\n",
    "    model = Model(inputs=[user, product], outputs=output)\n",
    "    model.compile(loss='binary_crossentropy', optimizer=Adam(learning_rate=0.001), metrics=[\"mae\", \"mse\"])\n",
    "    \n",
    "    return model\n",
    "# Checking if TPU is initialized and create the model accordingly\n",
    "if USE_TPU:\n",
    "    with tpu_strategy.scope():\n",
    "        model = RecommenderNet(num_users, num_products)\n",
    "else:\n",
    "    model = RecommenderNet(num_users, num_products)\n",
    "\n",
    "# Printing my model summary\n",
    "model.summary()"
   ]
  },
  {
   "cell_type": "code",
   "execution_count": 18,
   "metadata": {},
   "outputs": [],
   "source": [
    "## Import necessary callbacks\n",
    "from tensorflow.keras.callbacks import ModelCheckpoint, LearningRateScheduler, EarlyStopping\n",
    "\n",
    "# Define the initial learning rate, minimum learning rate, maximum learning rate, and batch size\n",
    "start_lr = 0.00001\n",
    "min_lr = 0.00001\n",
    "max_lr = 0.00005\n",
    "batch_size = 10000\n",
    "\n",
    "# Adjust the maximum learning rate and batch size if using TPU\n",
    "if USE_TPU:\n",
    "    max_lr = max_lr * tpu_strategy.num_replicas_in_sync\n",
    "    batch_size = batch_size * tpu_strategy.num_replicas_in_sync\n",
    "\n",
    "# Define the number of epochs for ramp-up, sustain, and exponential decay\n",
    "rampup_epochs = 5\n",
    "sustain_epochs = 0\n",
    "exp_decay = .8\n",
    "\n",
    "# Learning rate schedule function\n",
    "def lrfn(epoch):\n",
    "    if epoch < rampup_epochs:\n",
    "        return (max_lr - start_lr) / rampup_epochs * epoch + start_lr\n",
    "    elif epoch < rampup_epochs + sustain_epochs:\n",
    "        return max_lr\n",
    "    else:\n",
    "        return (max_lr - min_lr) * exp_decay**(epoch - rampup_epochs - sustain_epochs) + min_lr\n",
    "\n",
    "# Learning rate scheduler callback\n",
    "lr_callback = LearningRateScheduler(lambda epoch: lrfn(epoch), verbose=0)\n",
    "\n",
    "# File path for saving the model weights\n",
    "checkpoint_filepath = '/kaggle/working/myanimeweights.h5'\n",
    "\n",
    "# Model checkpoint callback to save the best weights\n",
    "model_checkpoints = ModelCheckpoint(filepath=checkpoint_filepath,\n",
    "                                    save_weights_only=True,\n",
    "                                    monitor='val_loss',\n",
    "                                    mode='min',\n",
    "                                    save_best_only=True)\n",
    "\n",
    "# Early stopping callback to prevent overfitting\n",
    "early_stopping = EarlyStopping(patience=3, monitor='val_loss', mode='min', restore_best_weights=True)\n",
    "\n",
    "# Define the list of callbacks\n",
    "my_callbacks = [\n",
    "    model_checkpoints,\n",
    "    lr_callback,\n",
    "    early_stopping\n",
    "]"
   ]
  },
  {
   "cell_type": "code",
   "execution_count": 19,
   "metadata": {},
   "outputs": [
    {
     "name": "stdout",
     "output_type": "stream",
     "text": [
      "Epoch 1/20\n",
      "233/233 [==============================] - 18s 75ms/step - loss: 0.6904 - mae: 0.2499 - mse: 0.0820 - val_loss: 0.6886 - val_mae: 0.2481 - val_mse: 0.0810 - lr: 1.0000e-05\n",
      "Epoch 2/20\n",
      "233/233 [==============================] - 17s 73ms/step - loss: 0.6855 - mae: 0.2454 - mse: 0.0795 - val_loss: 0.6823 - val_mae: 0.2423 - val_mse: 0.0779 - lr: 1.8000e-05\n",
      "Epoch 3/20\n",
      "233/233 [==============================] - 17s 72ms/step - loss: 0.6776 - mae: 0.2380 - mse: 0.0756 - val_loss: 0.6730 - val_mae: 0.2334 - val_mse: 0.0732 - lr: 2.6000e-05\n",
      "Epoch 4/20\n",
      "233/233 [==============================] - 17s 73ms/step - loss: 0.6666 - mae: 0.2271 - mse: 0.0700 - val_loss: 0.6603 - val_mae: 0.2204 - val_mse: 0.0669 - lr: 3.4000e-05\n",
      "Epoch 5/20\n",
      "233/233 [==============================] - 17s 73ms/step - loss: 0.6524 - mae: 0.2122 - mse: 0.0630 - val_loss: 0.6450 - val_mae: 0.2048 - val_mse: 0.0593 - lr: 4.2000e-05\n",
      "Epoch 6/20\n",
      "233/233 [==============================] - 17s 74ms/step - loss: 0.6361 - mae: 0.1972 - mse: 0.0550 - val_loss: 0.6283 - val_mae: 0.1898 - val_mse: 0.0511 - lr: 5.0000e-05\n",
      "Epoch 7/20\n",
      "233/233 [==============================] - 17s 74ms/step - loss: 0.6216 - mae: 0.1831 - mse: 0.0480 - val_loss: 0.6167 - val_mae: 0.1775 - val_mse: 0.0456 - lr: 4.2000e-05\n",
      "Epoch 8/20\n",
      "233/233 [==============================] - 18s 76ms/step - loss: 0.6117 - mae: 0.1717 - mse: 0.0433 - val_loss: 0.6090 - val_mae: 0.1678 - val_mse: 0.0420 - lr: 3.5600e-05\n",
      "Epoch 9/20\n",
      "233/233 [==============================] - 18s 75ms/step - loss: 0.6049 - mae: 0.1625 - mse: 0.0402 - val_loss: 0.6038 - val_mae: 0.1600 - val_mse: 0.0396 - lr: 3.0480e-05\n",
      "Epoch 10/20\n",
      "233/233 [==============================] - 17s 75ms/step - loss: 0.6001 - mae: 0.1553 - mse: 0.0380 - val_loss: 0.6002 - val_mae: 0.1544 - val_mse: 0.0380 - lr: 2.6384e-05\n",
      "Epoch 11/20\n",
      "233/233 [==============================] - 18s 76ms/step - loss: 0.5967 - mae: 0.1507 - mse: 0.0365 - val_loss: 0.5977 - val_mae: 0.1513 - val_mse: 0.0369 - lr: 2.3107e-05\n",
      "Epoch 12/20\n",
      "233/233 [==============================] - 18s 76ms/step - loss: 0.5942 - mae: 0.1481 - mse: 0.0354 - val_loss: 0.5960 - val_mae: 0.1497 - val_mse: 0.0361 - lr: 2.0486e-05\n",
      "Epoch 13/20\n",
      "233/233 [==============================] - 18s 76ms/step - loss: 0.5923 - mae: 0.1466 - mse: 0.0346 - val_loss: 0.5947 - val_mae: 0.1488 - val_mse: 0.0355 - lr: 1.8389e-05\n",
      "Epoch 14/20\n",
      "233/233 [==============================] - 18s 76ms/step - loss: 0.5909 - mae: 0.1456 - mse: 0.0339 - val_loss: 0.5938 - val_mae: 0.1482 - val_mse: 0.0351 - lr: 1.6711e-05\n",
      "Epoch 15/20\n",
      "233/233 [==============================] - 18s 76ms/step - loss: 0.5898 - mae: 0.1448 - mse: 0.0335 - val_loss: 0.5931 - val_mae: 0.1478 - val_mse: 0.0348 - lr: 1.5369e-05\n",
      "Epoch 16/20\n",
      "233/233 [==============================] - 18s 77ms/step - loss: 0.5889 - mae: 0.1441 - mse: 0.0331 - val_loss: 0.5926 - val_mae: 0.1475 - val_mse: 0.0346 - lr: 1.4295e-05\n",
      "Epoch 17/20\n",
      "233/233 [==============================] - 17s 75ms/step - loss: 0.5881 - mae: 0.1435 - mse: 0.0328 - val_loss: 0.5922 - val_mae: 0.1473 - val_mse: 0.0345 - lr: 1.3436e-05\n",
      "Epoch 18/20\n",
      "233/233 [==============================] - 18s 75ms/step - loss: 0.5875 - mae: 0.1430 - mse: 0.0325 - val_loss: 0.5920 - val_mae: 0.1470 - val_mse: 0.0343 - lr: 1.2749e-05\n",
      "Epoch 19/20\n",
      "233/233 [==============================] - 18s 75ms/step - loss: 0.5870 - mae: 0.1425 - mse: 0.0323 - val_loss: 0.5918 - val_mae: 0.1468 - val_mse: 0.0343 - lr: 1.2199e-05\n",
      "Epoch 20/20\n",
      "233/233 [==============================] - 19s 80ms/step - loss: 0.5865 - mae: 0.1420 - mse: 0.0321 - val_loss: 0.5917 - val_mae: 0.1467 - val_mse: 0.0342 - lr: 1.1759e-05\n"
     ]
    }
   ],
   "source": [
    "# Model training\n",
    "history = model.fit(\n",
    "    x=X_train_array,\n",
    "    y=y_train,\n",
    "    batch_size=batch_size,\n",
    "    epochs=20,\n",
    "    verbose=1,\n",
    "    validation_data=(X_test_array, y_test),\n",
    "    callbacks=my_callbacks\n",
    ")\n",
    "\n",
    "model.load_weights(checkpoint_filepath)"
   ]
  },
  {
   "cell_type": "code",
   "execution_count": 20,
   "metadata": {},
   "outputs": [
    {
     "data": {
      "image/png": "[encoded data removed]",
      "text/plain": [
       "<Figure size 640x480 with 1 Axes>"
      ]
     },
     "metadata": {},
     "output_type": "display_data"
    }
   ],
   "source": [
    "# Training results visualization\n",
    "plt.plot(history.history[\"loss\"][0:-2])\n",
    "plt.plot(history.history[\"val_loss\"][0:-2])\n",
    "plt.title(\"Training Loss\")\n",
    "plt.ylabel(\"Loss\")\n",
    "plt.xlabel(\"Epoch\")\n",
    "plt.legend([\"Train\", \"Validation\"], loc=\"upper left\")\n",
    "plt.show()"
   ]
  },
  {
   "cell_type": "markdown",
   "metadata": {},
   "source": [
    "# Recommendation:"
   ]
  },
  {
   "cell_type": "code",
   "execution_count": 21,
   "metadata": {},
   "outputs": [
    {
     "name": "stdout",
     "output_type": "stream",
     "text": [
      "[[ 0.11078383 -0.13042122  0.08877702 ... -0.10114464 -0.11174941\n",
      "   0.11815112]\n",
      " [-0.03979528 -0.11791956 -0.04894381 ... -0.06256992 -0.11440052\n",
      "  -0.05819497]\n",
      " [-0.00329813  0.08072385  0.01936488 ...  0.07546877 -0.09973756\n",
      "   0.13062534]\n",
      " ...\n",
      " [-0.07769455  0.0693913   0.14301175 ...  0.10639074 -0.0599554\n",
      "   0.03006937]\n",
      " [-0.14594793  0.05164173  0.07158575 ...  0.15719369 -0.13809913\n",
      "   0.01075529]\n",
      " [-0.08343747  0.1136236   0.11881612 ... -0.03450709 -0.10413324\n",
      "  -0.06311471]]\n",
      "[[-0.14954162  0.0599323  -0.05518767 ...  0.08963956  0.01004351\n",
      "   0.10288281]\n",
      " [ 0.03076838 -0.10536743 -0.1202025  ... -0.14382301  0.08978397\n",
      "   0.10459782]\n",
      " [-0.10743736  0.11593583 -0.08800775 ...  0.13611092  0.09402827\n",
      "  -0.1440422 ]\n",
      " ...\n",
      " [-0.10775041  0.10510479  0.06382342 ... -0.14686193 -0.07708219\n",
      "  -0.0603165 ]\n",
      " [-0.04885537  0.00736701 -0.05573297 ...  0.04583902  0.10276233\n",
      "   0.00816135]\n",
      " [ 0.09887229  0.13256611  0.03017909 ...  0.03645094  0.04220452\n",
      "  -0.12862942]]\n"
     ]
    }
   ],
   "source": [
    "def extract_weights(name, model):\n",
    "    # Get the layer by name from the model\n",
    "    weight_layer = model.get_layer(name)\n",
    "    \n",
    "    # Get the weights from the layer\n",
    "    weights = weight_layer.get_weights()[0]\n",
    "    \n",
    "    # Normalize the weights\n",
    "    weights = weights / np.linalg.norm(weights, axis=1).reshape((-1, 1))\n",
    "    \n",
    "    return weights\n",
    "\n",
    "# Extract weights for anime embeddings\n",
    "product_weights = extract_weights('product_embedding', model)\n",
    "print(product_weights)\n",
    "# Extract weights for user embeddings\n",
    "user_weights = extract_weights('user_embedding', model)\n",
    "print(user_weights)"
   ]
  },
  {
   "cell_type": "markdown",
   "metadata": {},
   "source": [
    "#### Reading the whole dataset"
   ]
  },
  {
   "cell_type": "markdown",
   "metadata": {},
   "source": [
    "### Now we want my model to recommend only those products that have been rated by at least a certain number of users, which we will set as the threshold. This threshold helps ensure that the recommended product titles have received a sufficient number of ratings, indicating a certain level of popularity or user engagement."
   ]
  },
  {
   "cell_type": "code",
   "execution_count": null,
   "metadata": {},
   "outputs": [],
   "source": [
    "# popularity_threshold = 50\n",
    "# df_products= df_products.query('Members >= @popularity_threshold')\n",
    "# only give rating of those movies for which atleast 200 user have rated"
   ]
  },
  {
   "cell_type": "markdown",
   "metadata": {},
   "source": [
    "# 2: User Based Recommendation\n",
    "#### (The user-based recommendation system is divided into three parts:)"
   ]
  },
  {
   "cell_type": "markdown",
   "metadata": {},
   "source": [
    "## Part 1: Finding Similar Users\n",
    "#### In this part, we randomly select a user from the dataset and find similar users based on their product preferences. The find_similar_users function calculates the similarity between users using a weighted matrix and returns a dataframe of similar users. The function takes an input user, number of similar users to find (n), and other optional parameters. The result is a list of similar users to the input user."
   ]
  },
  {
   "cell_type": "code",
   "execution_count": 22,
   "metadata": {},
   "outputs": [],
   "source": [
    "def find_similar_users(item_input, n=10, return_dist=False, neg=False):\n",
    "    try:\n",
    "        index = item_input\n",
    "        encoded_index = user_encoder.transform([index])[0]\n",
    "        \n",
    "        weights = user_weights\n",
    "        dists = np.dot(weights, weights[encoded_index])\n",
    "        sorted_dists = np.argsort(dists)\n",
    "        n = n + 1\n",
    "        \n",
    "        if neg:\n",
    "            closest = sorted_dists[:n]\n",
    "        else:\n",
    "            closest = sorted_dists[-n:]\n",
    "            \n",
    "        SimilarityArr = []\n",
    "        \n",
    "        for close in closest:\n",
    "            similarity = dists[close]\n",
    "            if isinstance(item_input, int):\n",
    "                \n",
    "                decoded_id = user_encoder.inverse_transform([close])[0]\n",
    "                SimilarityArr.append({\"similar_users\": decoded_id, \"similarity\": similarity})\n",
    "        Frame = pd.DataFrame(SimilarityArr).sort_values(by=\"similarity\", ascending=False)\n",
    "        return Frame\n",
    "    except:\n",
    "        print('\\033[1m{}\\033[0m, Not Found in User list'.format(item_input))"
   ]
  },
  {
   "cell_type": "code",
   "execution_count": 24,
   "metadata": {},
   "outputs": [
    {
     "name": "stdout",
     "output_type": "stream",
     "text": [
      "1\n"
     ]
    },
    {
     "data": {
      "text/html": [
       "<div>\n",
       "<style scoped>\n",
       "    .dataframe tbody tr th:only-of-type {\n",
       "        vertical-align: middle;\n",
       "    }\n",
       "\n",
       "    .dataframe tbody tr th {\n",
       "        vertical-align: top;\n",
       "    }\n",
       "\n",
       "    .dataframe thead th {\n",
       "        text-align: right;\n",
       "    }\n",
       "</style>\n",
       "<table border=\"1\" class=\"dataframe\">\n",
       "  <thead>\n",
       "    <tr style=\"text-align: right;\">\n",
       "      <th></th>\n",
       "      <th>similar_users</th>\n",
       "      <th>similarity</th>\n",
       "    </tr>\n",
       "  </thead>\n",
       "  <tbody>\n",
       "    <tr>\n",
       "      <th>4</th>\n",
       "      <td>5884</td>\n",
       "      <td>0.342775</td>\n",
       "    </tr>\n",
       "    <tr>\n",
       "      <th>3</th>\n",
       "      <td>7371</td>\n",
       "      <td>0.338101</td>\n",
       "    </tr>\n",
       "    <tr>\n",
       "      <th>2</th>\n",
       "      <td>1942</td>\n",
       "      <td>0.325163</td>\n",
       "    </tr>\n",
       "    <tr>\n",
       "      <th>1</th>\n",
       "      <td>5506</td>\n",
       "      <td>0.319042</td>\n",
       "    </tr>\n",
       "    <tr>\n",
       "      <th>0</th>\n",
       "      <td>8934</td>\n",
       "      <td>0.310595</td>\n",
       "    </tr>\n",
       "  </tbody>\n",
       "</table>\n",
       "</div>"
      ],
      "text/plain": [
       "   similar_users  similarity\n",
       "4           5884    0.342775\n",
       "3           7371    0.338101\n",
       "2           1942    0.325163\n",
       "1           5506    0.319042\n",
       "0           8934    0.310595"
      ]
     },
     "execution_count": 24,
     "metadata": {},
     "output_type": "execute_result"
    }
   ],
   "source": [
    "# Select a random user\n",
    "ratings_per_user = df_products.groupby('user_id').size()\n",
    "# random_user = int(ratings_per_user[ratings_per_user <10].sample(1, random_state=None).index[0])\n",
    "random_user=1;\n",
    "print(random_user)\n",
    "# Find similar users to the random user\n",
    "similar_users = find_similar_users(random_user, n=5, neg=False)\n",
    "similar_users = similar_users[similar_users.similarity >.1]\n",
    "similar_users = similar_users[similar_users.similar_users != random_user]\n",
    "similar_users"
   ]
  },
  {
   "cell_type": "code",
   "execution_count": 27,
   "metadata": {},
   "outputs": [
    {
     "name": "stdout",
     "output_type": "stream",
     "text": [
      "['furniture', 'living', 'finish', 'colo...', 'fabhomedecor', 'futons', 'fabric', 'double', 'sofa', 'room', 'bed', 'beds']\n"
     ]
    },
    {
     "ename": "MemoryError",
     "evalue": "Unable to allocate 22.2 MiB for an array with shape (2909919,) and data type float64",
     "output_type": "error",
     "traceback": [
      "\u001b[1;31m---------------------------------------------------------------------------\u001b[0m",
      "\u001b[1;31mMemoryError\u001b[0m                               Traceback (most recent call last)",
      "Cell \u001b[1;32mIn[27], line 14\u001b[0m\n\u001b[0;32m     11\u001b[0m unique_words \u001b[38;5;241m=\u001b[39m clean_and_extract_unique_words(input_string)\n\u001b[0;32m     13\u001b[0m \u001b[38;5;28mprint\u001b[39m(unique_words)\n\u001b[1;32m---> 14\u001b[0m df_products[\u001b[38;5;124m'\u001b[39m\u001b[38;5;124mproduct_category_tree\u001b[39m\u001b[38;5;124m'\u001b[39m]\u001b[38;5;241m=\u001b[39m\u001b[43mdf_products\u001b[49m\u001b[43m[\u001b[49m\u001b[38;5;124;43m'\u001b[39;49m\u001b[38;5;124;43mproduct_category_tree\u001b[39;49m\u001b[38;5;124;43m'\u001b[39;49m\u001b[43m]\u001b[49m\u001b[38;5;241;43m.\u001b[39;49m\u001b[43mapply\u001b[49m\u001b[43m(\u001b[49m\u001b[43mclean_and_extract_unique_words\u001b[49m\u001b[43m)\u001b[49m\n\u001b[0;32m     15\u001b[0m df_products\u001b[38;5;241m.\u001b[39mhead(\u001b[38;5;241m1\u001b[39m)\n",
      "File \u001b[1;32m~\\AppData\\Local\\Packages\\PythonSoftwareFoundation.Python.3.11_qbz5n2kfra8p0\\LocalCache\\local-packages\\Python311\\site-packages\\pandas\\core\\series.py:4630\u001b[0m, in \u001b[0;36mSeries.apply\u001b[1;34m(self, func, convert_dtype, args, **kwargs)\u001b[0m\n\u001b[0;32m   4520\u001b[0m \u001b[38;5;28;01mdef\u001b[39;00m \u001b[38;5;21mapply\u001b[39m(\n\u001b[0;32m   4521\u001b[0m     \u001b[38;5;28mself\u001b[39m,\n\u001b[0;32m   4522\u001b[0m     func: AggFuncType,\n\u001b[1;32m   (...)\u001b[0m\n\u001b[0;32m   4525\u001b[0m     \u001b[38;5;241m*\u001b[39m\u001b[38;5;241m*\u001b[39mkwargs,\n\u001b[0;32m   4526\u001b[0m ) \u001b[38;5;241m-\u001b[39m\u001b[38;5;241m>\u001b[39m DataFrame \u001b[38;5;241m|\u001b[39m Series:\n\u001b[0;32m   4527\u001b[0m \u001b[38;5;250m    \u001b[39m\u001b[38;5;124;03m\"\"\"\u001b[39;00m\n\u001b[0;32m   4528\u001b[0m \u001b[38;5;124;03m    Invoke function on values of Series.\u001b[39;00m\n\u001b[0;32m   4529\u001b[0m \n\u001b[1;32m   (...)\u001b[0m\n\u001b[0;32m   4628\u001b[0m \u001b[38;5;124;03m    dtype: float64\u001b[39;00m\n\u001b[0;32m   4629\u001b[0m \u001b[38;5;124;03m    \"\"\"\u001b[39;00m\n\u001b[1;32m-> 4630\u001b[0m     \u001b[38;5;28;01mreturn\u001b[39;00m \u001b[43mSeriesApply\u001b[49m\u001b[43m(\u001b[49m\u001b[38;5;28;43mself\u001b[39;49m\u001b[43m,\u001b[49m\u001b[43m \u001b[49m\u001b[43mfunc\u001b[49m\u001b[43m,\u001b[49m\u001b[43m \u001b[49m\u001b[43mconvert_dtype\u001b[49m\u001b[43m,\u001b[49m\u001b[43m \u001b[49m\u001b[43margs\u001b[49m\u001b[43m,\u001b[49m\u001b[43m \u001b[49m\u001b[43mkwargs\u001b[49m\u001b[43m)\u001b[49m\u001b[38;5;241;43m.\u001b[39;49m\u001b[43mapply\u001b[49m\u001b[43m(\u001b[49m\u001b[43m)\u001b[49m\n",
      "File \u001b[1;32m~\\AppData\\Local\\Packages\\PythonSoftwareFoundation.Python.3.11_qbz5n2kfra8p0\\LocalCache\\local-packages\\Python311\\site-packages\\pandas\\core\\apply.py:1025\u001b[0m, in \u001b[0;36mSeriesApply.apply\u001b[1;34m(self)\u001b[0m\n\u001b[0;32m   1022\u001b[0m     \u001b[38;5;28;01mreturn\u001b[39;00m \u001b[38;5;28mself\u001b[39m\u001b[38;5;241m.\u001b[39mapply_str()\n\u001b[0;32m   1024\u001b[0m \u001b[38;5;66;03m# self.f is Callable\u001b[39;00m\n\u001b[1;32m-> 1025\u001b[0m \u001b[38;5;28;01mreturn\u001b[39;00m \u001b[38;5;28;43mself\u001b[39;49m\u001b[38;5;241;43m.\u001b[39;49m\u001b[43mapply_standard\u001b[49m\u001b[43m(\u001b[49m\u001b[43m)\u001b[49m\n",
      "File \u001b[1;32m~\\AppData\\Local\\Packages\\PythonSoftwareFoundation.Python.3.11_qbz5n2kfra8p0\\LocalCache\\local-packages\\Python311\\site-packages\\pandas\\core\\apply.py:1076\u001b[0m, in \u001b[0;36mSeriesApply.apply_standard\u001b[1;34m(self)\u001b[0m\n\u001b[0;32m   1074\u001b[0m     \u001b[38;5;28;01melse\u001b[39;00m:\n\u001b[0;32m   1075\u001b[0m         values \u001b[38;5;241m=\u001b[39m obj\u001b[38;5;241m.\u001b[39mastype(\u001b[38;5;28mobject\u001b[39m)\u001b[38;5;241m.\u001b[39m_values\n\u001b[1;32m-> 1076\u001b[0m         mapped \u001b[38;5;241m=\u001b[39m \u001b[43mlib\u001b[49m\u001b[38;5;241;43m.\u001b[39;49m\u001b[43mmap_infer\u001b[49m\u001b[43m(\u001b[49m\n\u001b[0;32m   1077\u001b[0m \u001b[43m            \u001b[49m\u001b[43mvalues\u001b[49m\u001b[43m,\u001b[49m\n\u001b[0;32m   1078\u001b[0m \u001b[43m            \u001b[49m\u001b[43mf\u001b[49m\u001b[43m,\u001b[49m\n\u001b[0;32m   1079\u001b[0m \u001b[43m            \u001b[49m\u001b[43mconvert\u001b[49m\u001b[38;5;241;43m=\u001b[39;49m\u001b[38;5;28;43mself\u001b[39;49m\u001b[38;5;241;43m.\u001b[39;49m\u001b[43mconvert_dtype\u001b[49m\u001b[43m,\u001b[49m\n\u001b[0;32m   1080\u001b[0m \u001b[43m        \u001b[49m\u001b[43m)\u001b[49m\n\u001b[0;32m   1082\u001b[0m \u001b[38;5;28;01mif\u001b[39;00m \u001b[38;5;28mlen\u001b[39m(mapped) \u001b[38;5;129;01mand\u001b[39;00m \u001b[38;5;28misinstance\u001b[39m(mapped[\u001b[38;5;241m0\u001b[39m], ABCSeries):\n\u001b[0;32m   1083\u001b[0m     \u001b[38;5;66;03m# GH#43986 Need to do list(mapped) in order to get treated as nested\u001b[39;00m\n\u001b[0;32m   1084\u001b[0m     \u001b[38;5;66;03m#  See also GH#25959 regarding EA support\u001b[39;00m\n\u001b[0;32m   1085\u001b[0m     \u001b[38;5;28;01mreturn\u001b[39;00m obj\u001b[38;5;241m.\u001b[39m_constructor_expanddim(\u001b[38;5;28mlist\u001b[39m(mapped), index\u001b[38;5;241m=\u001b[39mobj\u001b[38;5;241m.\u001b[39mindex)\n",
      "File \u001b[1;32m~\\AppData\\Local\\Packages\\PythonSoftwareFoundation.Python.3.11_qbz5n2kfra8p0\\LocalCache\\local-packages\\Python311\\site-packages\\pandas\\_libs\\lib.pyx:2843\u001b[0m, in \u001b[0;36mpandas._libs.lib.map_infer\u001b[1;34m()\u001b[0m\n",
      "File \u001b[1;32m~\\AppData\\Local\\Packages\\PythonSoftwareFoundation.Python.3.11_qbz5n2kfra8p0\\LocalCache\\local-packages\\Python311\\site-packages\\pandas\\_libs\\lib.pyx:2440\u001b[0m, in \u001b[0;36mpandas._libs.lib.maybe_convert_objects\u001b[1;34m()\u001b[0m\n",
      "\u001b[1;31mMemoryError\u001b[0m: Unable to allocate 22.2 MiB for an array with shape (2909919,) and data type float64"
     ]
    }
   ],
   "source": [
    "def clean_and_extract_unique_words(input_string):\n",
    "    # Remove unwanted characters and split the string into words\n",
    "    words = input_string.replace(' >> ', ' ').replace(\"'\", \"\").replace('\"', '').replace('[', '').replace(']', '').replace('(', '').replace('&', '').split()\n",
    "\n",
    "    # Convert words to lowercase and create a set to store unique words\n",
    "    unique_words = set(word.lower() for word in words)\n",
    "\n",
    "    return list(unique_words)\n",
    "\n",
    "input_string = df_products['product_category_tree'][1]\n",
    "unique_words = clean_and_extract_unique_words(input_string)\n",
    "\n",
    "print(unique_words)\n",
    "df_products['product_category_tree']=df_products['product_category_tree'].apply(clean_and_extract_unique_words)\n",
    "df_products.head(1)\n"
   ]
  },
  {
   "cell_type": "markdown",
   "metadata": {},
   "source": [
    "## Part 2: User Preferences\n",
    "#### This part focuses on understanding the preferences of the selected user. The get_user_preferences function takes a user ID as input and retrieves the anime preferences of that user. It considers the top-rated animes by the user and analyzes the genres they prefer. The function also provides an option to plot a word cloud to visualize the preferred genres. The output is a dataframe containing the anime titles and their associated genres."
   ]
  },
  {
   "cell_type": "code",
   "execution_count": null,
   "metadata": {},
   "outputs": [],
   "source": [
    "# Function to display a word cloud of preferred genres\n",
    "def showWordCloud(all_categories):\n",
    "    category_cloud = WordCloud(width=700, height=400, background_color='white', colormap='gnuplot').generate_from_frequencies(all_categories)\n",
    "    plt.figure(figsize=(10, 8))\n",
    "    plt.imshow(category_cloud, interpolation='bilinear')\n",
    "    plt.axis('off')\n",
    "    plt.show()\n",
    "\n",
    "def get_user_preferences(user_id, plot=False, verbose=0):\n",
    "    products_viewed_by_user = df_products[df_products['user_id'] == user_id]\n",
    "    \n",
    "    \n",
    "    if products_viewed_by_user.empty:\n",
    "        print(\"User #{} has not viewed any product.\".format(user_id))\n",
    "        return pd.DataFrame()\n",
    "    \n",
    "    user_rating_percentile = np.percentile(products_viewed_by_user.rating, 75)\n",
    "    \n",
    "    products_viewed_by_user = products_viewed_by_user[products_viewed_by_user.rating >= 1]\n",
    "\n",
    "    \n",
    "    top_products_user = (\n",
    "        products_viewed_by_user.sort_values(by=\"rating\", ascending=False)\n",
    "        .product_id.values\n",
    "    )\n",
    "    \n",
    "\n",
    "    \n",
    "    product_df_rows = df_products[df_products[\"product_id\"].isin(top_products_user)]\n",
    ")\n",
    "    product_df_rows = product_df_rows[[\"product_name\", \"product_category_tree\"]]\n",
    "\n",
    "    \n",
    "    if verbose != 0:\n",
    "        print(\"User \\033[1m{}\\033[0m has viewed {} product(s) with an average rating of {:.1f}/10\\n\".format(\n",
    "            user_id, len(products_viewed_by_user), products_viewed_by_user['rating'].mean()\n",
    "        ))\n",
    "        print('\\033[1m----- Preferred categories----- \\033[0m\\n')\n",
    "\n",
    "    if plot:\n",
    "        genres_list = []\n",
    "        for genres in product_df_rows['product_category_tree']:\n",
    "                for genre in genres:\n",
    "                    genres_list.append(genre.strip())\n",
    "\n",
    "        showWordCloud(dict(Counter(genres_list)))\n",
    "    \n",
    "    return product_df_rows"
   ]
  },
  {
   "cell_type": "code",
   "execution_count": null,
   "metadata": {},
   "outputs": [],
   "source": [
    "# Get user preferences for the random user\n",
    "user_pref = get_user_preferences(random_user, plot=True, verbose=1)\n",
    "user_pref\n"
   ]
  },
  {
   "cell_type": "markdown",
   "metadata": {},
   "source": [
    "## Part 3: Recommending Products for a User\n",
    "#### In the final part, we recommend Products to the selected user based on the preferences of similar users. The get_recommended_product function iterates through the list of similar users, retrieves their preferences, and identifies product that are not present in the preferences of the selected user. It then generates a list of recommended product along with their category and a brief description. The output is a dataframe containing the recommended products for the user."
   ]
  },
  {
   "cell_type": "code",
   "execution_count": null,
   "metadata": {},
   "outputs": [],
   "source": [
    "def get_recommended_products(similar_users, user_pref, n=10):\n",
    "    recommended_products = []\n",
    "    product_list = []\n",
    "    \n",
    "    for user_id in similar_users.similar_users.values:\n",
    "        pref_list = get_user_preferences(int(user_id))\n",
    "        \n",
    "        if not pref_list.empty:  # Check if user has viewed product\n",
    "            pref_list = pref_list[~pref_list[\"product_name\"].isin(user_pref[\"product_name\"].values)]\n",
    "            product_list.append(pref_list.product_name.values)\n",
    "       \n",
    "         \n",
    "    if len(product_list) == 0:\n",
    "        print(\"No product recommendations available for the given users.\")\n",
    "        return pd.DataFrame()\n",
    "    \n",
    "    product_list = pd.DataFrame(product_list)\n",
    "    \n",
    "    sorted_list = pd.DataFrame(pd.Series(product_list.values.ravel()).value_counts()).head(n)\n",
    "    # Count the occurrences of each anime in the entire dataset\n",
    "    product_count = df_products['product_id'].value_counts()\n",
    "    \n",
    "    for i, product_name in enumerate(sorted_list.index):\n",
    "        if isinstance(product_name, str):\n",
    "            try:\n",
    "                product_id = df_products[df_products.product_name == product_name].product_id.values[0]\n",
    "                category = df_products[df_products.product_name == product_name].product_category_tree.values[0]\n",
    "                description = df_products[df_products.product_name == product_name].description.values[0]\n",
    "                n_user_pref = product_count.get(product_id, 0)  # Get the total count of users who have watched this anime\n",
    "                recommended_products.append({\n",
    "                    \"n\": n_user_pref,\n",
    "                    \"product_name\": product_name, \n",
    "                    \"category\": category, \n",
    "                    \"description\": description\n",
    "                })\n",
    "            except:\n",
    "                pass\n",
    "    return pd.DataFrame(recommended_products)"
   ]
  },
  {
   "cell_type": "code",
   "execution_count": null,
   "metadata": {},
   "outputs": [],
   "source": [
    "# Get recommended product for the random user\n",
    "recommended_products = get_recommended_products(similar_users, user_pref, n=10)\n",
    "\n",
    "print('\\n> Top recommendations for user: {}'.format(random_user))\n",
    "recommended_products\n"
   ]
  },
  {
   "cell_type": "code",
   "execution_count": null,
   "metadata": {},
   "outputs": [],
   "source": []
  }
 ],
 "metadata": {
  "kernelspec": {
   "display_name": "Python 3 (ipykernel)",
   "language": "python",
   "name": "python3"
  },
  "language_info": {
   "codemirror_mode": {
    "name": "ipython",
    "version": 3
   },
   "file_extension": ".py",
   "mimetype": "text/x-python",
   "name": "python",
   "nbconvert_exporter": "python",
   "pygments_lexer": "ipython3",
   "version": "3.11.4"
  }
 },
 "nbformat": 4,
 "nbformat_minor": 4
}
